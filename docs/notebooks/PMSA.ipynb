{
 "cells": [
  {
   "cell_type": "code",
   "execution_count": 1,
   "metadata": {},
   "outputs": [],
   "source": [
    "import sys\n",
    "\n",
    "import numpy as np\n",
    "import pandas as pd\n",
    "import xarray as xr\n",
    "from lmoments3.distr import gev\n",
    "from scipy.stats import genextreme\n",
    "from xclim.indices.stats import fit, parametric_quantile\n",
    "\n",
    "sys.path.append(\"C:\\\\Users\\\\ospin\\\\OneDrive\\\\Documents\\\\Github\\\\xhydro\\\\src\\\\xhydro\")\n",
    "import pmp"
   ]
  },
  {
   "cell_type": "code",
   "execution_count": 2,
   "metadata": {},
   "outputs": [],
   "source": [
    "def precipitable_water_100y(da_pw, dist, method, n, mf=0.2):\n",
    "    \"\"\"Compute the 100-year return period of precipitable water for each month of the year.\n",
    "\n",
    "    Parameters\n",
    "    ----------\n",
    "    da_pw : xr.DataArray\n",
    "        Dataset containing the precipitable water.\n",
    "    dist : lmoments3 distribution object\n",
    "        Probability distributions.\n",
    "    method : {\"ML\" or \"MLE\", \"MM\", \"PWM\", \"APP\"}\n",
    "        Fitting method, either maximum likelihood (ML or MLE), method of moments (MM) or approximate method (APP).\n",
    "        Can also be the probability weighted moments (PWM), also called L-Moments, if a compatible `dist` object is passed.\n",
    "        The PWM method is usually more robust to outliers.\n",
    "    n : int\n",
    "        Minimum number of data points to fit the distribution. When n is larger than the number of data points,\n",
    "        the maximum value of the precipitable is set.\n",
    "    mf : float\n",
    "        The annual maximums of the precipitable water plus a porcentage (mf) are used as a upper limit.\n",
    "\n",
    "    Returns\n",
    "    -------\n",
    "    xr.DataArray\n",
    "        Precipitable water for a 100-year return period.\n",
    "        It has the same dimensions as da_pw.\n",
    "    \"\"\"\n",
    "    # Compute max monthly and add a «year» dimension.\n",
    "    da_pw_m = da_pw.resample({\"time\": \"ME\"}).max()\n",
    "    year = da_pw_m.time.dt.year\n",
    "    month = da_pw_m.time.dt.month\n",
    "    da_pw_m = da_pw_m.assign_coords(\n",
    "        year=(\"time\", year.data), month=(\"time\", month.data)\n",
    "    )\n",
    "    da_pw_m = da_pw_m.set_index(time=(\"year\", \"month\")).unstack(\"time\")\n",
    "    da_pw_m = da_pw_m.rename({\"year\": \"time\"}).squeeze()\n",
    "\n",
    "    # ----------------------------------------------------------------------------------------------\n",
    "    count = da_pw_m.count(dim=\"time\")\n",
    "    cond = count > n\n",
    "    gev_values = genextreme.rvs(\n",
    "        c=0.71233406, loc=9.56850054, scale=1.39081282, size=da_pw_m.shape[2]\n",
    "    )\n",
    "    shape = da_pw_m.shape\n",
    "    num_elements = np.prod(shape)\n",
    "    padded_array = np.resize(gev_values, num_elements)\n",
    "    array_4d = padded_array.reshape((shape[0], shape[1], shape[3], shape[2]))\n",
    "    array_4d = np.transpose(array_4d, axes=(0, 1, 3, 2))\n",
    "\n",
    "    new_xarray = xr.DataArray(array_4d, dims=da_pw_m.dims, coords=da_pw_m.coords)\n",
    "\n",
    "    da_pw_m2 = da_pw_m.where(cond, other=new_xarray)\n",
    "\n",
    "    # ----------------------------------------------------------------------------------------------------------------------------------\n",
    "\n",
    "    # Fits distribution\n",
    "    params = fit(da_pw_m2, dist=dist, method=method)\n",
    "    pw100_m2 = parametric_quantile(params, q=1 - 1 / 100).squeeze().rename(\"pw100\")\n",
    "\n",
    "    pw100_m = pw100_m2.where(\n",
    "        cond, other=da_pw_m.max(dim=\"time\")\n",
    "    )  # ------------------------------------------------------------------------------------------\n",
    "\n",
    "    pw_mm = da_pw_m.rename(\"precipitable_water_monthly\")\n",
    "    pw_mm = pw_mm.rename({\"time\": \"year\"})\n",
    "\n",
    "    # Add a limit to PW100 to limit maximization factors.\n",
    "    pw_mm_mf = (pw_mm.max(dim=\"year\") * (1.0 + mf)).squeeze()\n",
    "\n",
    "    pw100_m = pw100_m.where(pw100_m < pw_mm_mf, other=pw_mm_mf)\n",
    "    pw100_m = pw100_m.expand_dims(dim={\"year\": np.unique(year.values)})\n",
    "    pw100_m = pw100_m.stack(stacked_coords=(\"month\", \"year\"))\n",
    "    date_index = pd.DatetimeIndex(\n",
    "        pd.to_datetime(\n",
    "            pd.DataFrame(\n",
    "                {\n",
    "                    \"year\": pw100_m.year.data,\n",
    "                    \"month\": pw100_m.month.data,\n",
    "                    \"day\": (xr.ones_like(pw100_m.month).data),\n",
    "                    \"hour\": (xr.ones_like(pw100_m.month).data) * 12,\n",
    "                }\n",
    "            )\n",
    "        )\n",
    "    )\n",
    "    pw100_m = pw100_m.assign_coords(time=(\"stacked_coords\", date_index))\n",
    "\n",
    "    pw100_m = pw100_m.swap_dims({\"stacked_coords\": \"time\"}).sortby(\"time\")\n",
    "    pw100_m = pw100_m.convert_calendar(\"noleap\")\n",
    "    pw100_m = pw100_m.rename(\"pw100\").to_dataset()\n",
    "\n",
    "    if \"x\" and \"y\" in pw100_m.coords:\n",
    "        pw100_m = pw100_m.transpose(\"time\", \"y\", \"x\")\n",
    "        da_pw = da_pw.drop_vars([\"x\", \"y\"])\n",
    "\n",
    "    # ----------------------------------------------------------------------------------------------------------------------------------\n",
    "    nan_months = (\n",
    "        pw100_m.groupby(pw100_m.month)\n",
    "        .apply(lambda x: x.month.where(np.any(np.isnan(x))))\n",
    "        .values\n",
    "    )\n",
    "    mask = da_pw.time.dt.month.isin(nan_months)\n",
    "    pw100_m_ri = pw100_m.pw100.reindex(time=da_pw.time).ffill(dim=\"time\")\n",
    "    da_pw100 = pw100_m_ri.where(~mask, np.nan)\n",
    "    # ----------------------------------------------------------------------------------------------------------------------------------\n",
    "\n",
    "    # da_pw100 = xr.merge([pw100_m, da_pw]).ffill(dim=\"time\") #-----------------------------------------------------\n",
    "\n",
    "    da_pw100 = da_pw100.squeeze().drop_vars([\"month\", \"year\", \"stacked_coords\"])\n",
    "\n",
    "    return da_pw100"
   ]
  },
  {
   "cell_type": "code",
   "execution_count": 3,
   "metadata": {},
   "outputs": [],
   "source": [
    "ds = xr.open_zarr(\n",
    "    \"c:\\\\Users\\\\ospin\\\\OneDrive\\\\Documents\\\\CMP\\\\Data\\\\CMIP.CCCma.CanESM5.historical.r1i1p1f1.day.gn.zarr\"\n",
    ")\n",
    "ds_fx = xr.open_zarr(\n",
    "    \"c:\\\\Users\\\\ospin\\\\OneDrive\\\\Documents\\\\CMP\\\\Data\\\\CMIP.CCCma.CanESM5.historical.r1i1p1f1.fx.gn.zarr\"\n",
    ")"
   ]
  },
  {
   "cell_type": "code",
   "execution_count": 4,
   "metadata": {},
   "outputs": [],
   "source": [
    "windows = [1, 2, 3, 4]\n",
    "snw_threshold = 0.01\n",
    "rf_threshold = 0.01\n",
    "dist = gev\n",
    "winter_months = [10, 11, 12, 1, 2, 3, 4, 5, 6, 7, 8, 9]"
   ]
  },
  {
   "cell_type": "code",
   "execution_count": 5,
   "metadata": {},
   "outputs": [],
   "source": [
    "ds_wint = ds.sel(time=ds.time.dt.month.isin(winter_months))\n",
    "\n",
    "prsn = ds_wint.prsn\n",
    "rf = ds_wint.rf\n",
    "pr = ds_wint.pr"
   ]
  },
  {
   "cell_type": "markdown",
   "metadata": {},
   "source": [
    "### The maximum precipitable water (wmax)"
   ]
  },
  {
   "cell_type": "markdown",
   "metadata": {},
   "source": [
    "The paper use the maximum value of w for each CRCM tile during an event and the three 6-h time steps preceding the event."
   ]
  },
  {
   "cell_type": "code",
   "execution_count": 6,
   "metadata": {},
   "outputs": [
    {
     "ename": "TypeError",
     "evalue": "precipitable_water() missing 1 required positional argument: 'orog'",
     "output_type": "error",
     "traceback": [
      "\u001b[1;31m---------------------------------------------------------------------------\u001b[0m",
      "\u001b[1;31mTypeError\u001b[0m                                 Traceback (most recent call last)",
      "Cell \u001b[1;32mIn[6], line 1\u001b[0m\n\u001b[1;32m----> 1\u001b[0m wmax \u001b[38;5;241m=\u001b[39m \u001b[43mpmp\u001b[49m\u001b[38;5;241;43m.\u001b[39;49m\u001b[43mprecipitable_water\u001b[49m\u001b[43m(\u001b[49m\u001b[43mds_wint\u001b[49m\u001b[43m,\u001b[49m\u001b[43m \u001b[49m\u001b[43mds_fx\u001b[49m\u001b[43m,\u001b[49m\u001b[43m \u001b[49m\u001b[43mwindows\u001b[49m\u001b[38;5;241;43m=\u001b[39;49m\u001b[43mwindows\u001b[49m\u001b[43m)\u001b[49m\n",
      "\u001b[1;31mTypeError\u001b[0m: precipitable_water() missing 1 required positional argument: 'orog'"
     ]
    }
   ],
   "source": [
    "wmax = pmp.precipitable_water(ds_wint, ds_fx, windows=windows)"
   ]
  },
  {
   "cell_type": "markdown",
   "metadata": {},
   "source": [
    "### PW snow events"
   ]
  },
  {
   "cell_type": "markdown",
   "metadata": {},
   "source": [
    "To ensure that wmax consists of values that lead to snowfall only, the paper consider exclusively values of w from time steps that show at least 0.25 mm/6 h of solid precipitation (given in water equivalent of the snowfall (a.k.a., snow water equivalent, SWE)) and less than 0.1 mm/6 h of rain.\n",
    "\n",
    "The paper recommends to use the methodology M3 to define the events associated to snowfall events. For this, the methodology M2 is first computed by considering only time steps that show at least the minimum amount snowfall."
   ]
  },
  {
   "cell_type": "code",
   "execution_count": null,
   "metadata": {},
   "outputs": [],
   "source": [
    "pe = pmp.major_precipitation_events(\n",
    "    prsn, windows=windows, quantile=0.0\n",
    ")  # quantile = 0 to take all the events.\n",
    "\n",
    "snw_thresholds = snw_threshold * np.array(windows)\n",
    "rf_thresholds = rf_threshold * np.array(windows)\n",
    "\n",
    "list_where = []\n",
    "for window, snw_threshold in zip(windows, snw_thresholds):\n",
    "    pe_win = pe.sel(windows=window)\n",
    "    list_where.append(\n",
    "        pe_win.where((pe_win >= snw_threshold) & (rf.values <= rf_threshold))\n",
    "    )\n",
    "\n",
    "pe_snow = xr.concat(list_where, dim=\"windows\")\n",
    "\n",
    "pw_snow_events_M2 = wmax.where(pe_snow > 0)"
   ]
  },
  {
   "cell_type": "markdown",
   "metadata": {},
   "source": [
    "Then, M2 events are multiplied by the ratio of snowfall over total precipitation when more than the minimum amount of rain occurs. The multiplication provides a means to estimate the amount of precipitable water that leads to snowfall."
   ]
  },
  {
   "cell_type": "code",
   "execution_count": null,
   "metadata": {},
   "outputs": [],
   "source": [
    "pe_pr = pmp.major_precipitation_events(\n",
    "    pr, windows=windows, quantile=0.0\n",
    ")  # quantile = 0 to take all the events.\n",
    "\n",
    "ratio_snw_pr = pe / pe_pr\n",
    "ratio_snw_pr = ratio_snw_pr.where(pe_snow > 0)  # ratio to compute the the M3 method\n",
    "\n",
    "pw_snow_events_M3 = pw_snow_events_M2.where(\n",
    "    ((prsn >= snw_threshold) & (rf.values >= rf_threshold)),\n",
    "    pw_snow_events_M2 * ratio_snw_pr,\n",
    ")"
   ]
  },
  {
   "cell_type": "markdown",
   "metadata": {},
   "source": [
    "### Pw100"
   ]
  },
  {
   "cell_type": "markdown",
   "metadata": {},
   "source": [
    "To compute the value of the 100-year return period the wmax is filtered by the snow and rainfall thresholds.\n",
    "\n",
    "A value of mf=1000 is used to do not imposed a limit to pw100 as in the paper they assumed that the CRCM is physically sound and its output holistically coherent. Thus, they decided to work with the data without restricting anything.\n",
    "\n",
    "The function  precipitable_water_100y was modified to set the maximum value of wmax as w100 when there is less than n data to compute the distribution. Paper uses n = 20."
   ]
  },
  {
   "cell_type": "code",
   "execution_count": null,
   "metadata": {},
   "outputs": [],
   "source": [
    "pw100 = precipitable_water_100y(\n",
    "    pw_snow_events_M3.sel(windows=1).chunk(dict(time=-1)),\n",
    "    dist=gev,\n",
    "    method=\"PWM\",\n",
    "    mf=1000,\n",
    "    n=3,\n",
    ")  # mf=1000 to do not imposed a limit\n",
    "pw100 = pw100.sel(time=pw100.time.dt.month.isin(winter_months))"
   ]
  },
  {
   "cell_type": "markdown",
   "metadata": {},
   "source": [
    "### Maximization ratio (r) and Maximized snowfall (snowmax)"
   ]
  },
  {
   "cell_type": "code",
   "execution_count": null,
   "metadata": {},
   "outputs": [],
   "source": [
    "r = pw100 / pw_snow_events_M3\n",
    "snowmax = r * pe_snow"
   ]
  },
  {
   "cell_type": "code",
   "execution_count": null,
   "metadata": {},
   "outputs": [],
   "source": [
    "# Get the snow events that were not maximized\n",
    "list_where2 = []\n",
    "for window, snw_threshold in zip(windows, snw_thresholds):\n",
    "    pe_win = pe.sel(windows=window)\n",
    "    list_where2.append(pe_win.where(pe_win < snw_threshold))\n",
    "\n",
    "pe_snow2 = xr.concat(list_where2, dim=\"windows\")\n",
    "\n",
    "snow_NO_max = pe_snow2"
   ]
  },
  {
   "cell_type": "code",
   "execution_count": null,
   "metadata": {},
   "outputs": [],
   "source": [
    "snow_sum = xr.concat([snowmax, snow_NO_max], dim=\"variable\").sum(\"variable\")"
   ]
  },
  {
   "cell_type": "code",
   "execution_count": null,
   "metadata": {},
   "outputs": [
    {
     "data": {
      "text/plain": [
       "array([[[ 487.49921143,  898.87266135, 1303.81225332, 1615.23844062],\n",
       "        [ 390.69169999,  821.18292136, 1279.44780067, 1649.42235957]],\n",
       "\n",
       "       [[ 487.49230991, 1090.20182714, 1592.82797013, 2038.18447456],\n",
       "        [ 365.83691094,  743.78658646, 1122.46213099, 1498.32315001]]])"
      ]
     },
     "execution_count": 39,
     "metadata": {},
     "output_type": "execute_result"
    }
   ],
   "source": [
    "pmsa_annual = snow_sum.resample(time=\"YS-JUL\").sum(dim=\"time\")\n",
    "pmsa = pmsa_annual.max(dim=\"time\")"
   ]
  },
  {
   "cell_type": "markdown",
   "metadata": {},
   "source": [
    "## Questions to solve\n",
    "\n",
    "- Do we want to study the non-stationarity in the wmax? (i) a linear trend and (ii) an abrupt shift (or change-point). T0, T1, T2, T3\n",
    "    -  Since there is a physical limit to this absolute humidity, a breakpoint analysis should not be neglected in future studies.\n",
    "    -  Yet we decided to not account for this behavior in the methodology.\n",
    "    -  We still chose to use type T1 (model with linear time dependence in the expected value or, for the Gumbel and GEV distributions, in the location parameter)\n",
    "\n",
    "- Do we want to consider a limit for w100 to be consistent with the PMP_summer?\n",
    "\n",
    "- Get data to test.\n",
    "\n",
    "    -All simulations were generated using CRCM version 4.2.3\n",
    "    (Caya and Laprise, 1999; de Elía and Côté, 2010; Paquin, 2010) over\n",
    "    a domain centered on the Province of Quebec (111 x 87 grid\n",
    "    points) with a horizontal grid-size mesh of 45 km (true at 60N).\n",
    "    The variables of inter\u0002est are available from January 1961 to December 2100 for all three\n",
    "simulations with a 6-h temporal resolution.\n",
    "The afx and agr simulations were driven by outputs of the third\n",
    "generation Canadian Global Coupled Climate Model (CGCM3/T47\n",
    "at approximately 3.57 \u0003 3.75 degree latitude–longitude; 4th and\n",
    "5th members, respectively; Flato and Boer, 2001; Flato et al.,\n",
    "2000; Scinocca et al., 2008). The aha simulation was driven by sim\u0002ulation outputs of the German Coupled Global Climate Model\n",
    "(ECHAM5 at approximately 1.87 \u0003 1.87 degree latitude–longitude;\n",
    "1st member; Jungclaus et al., 2006)."
   ]
  },
  {
   "cell_type": "markdown",
   "metadata": {},
   "source": [
    "## Note\n",
    "\n",
    "The function precipitable_water_100y use a dummy distribution to fill the values where n < 3. This is not gonna be necessary when we work with more data or when we use Kamil's wrapper."
   ]
  }
 ],
 "metadata": {
  "language_info": {
   "codemirror_mode": {
    "name": "ipython",
    "version": 3
   },
   "file_extension": ".py",
   "mimetype": "text/x-python",
   "name": "python",
   "nbconvert_exporter": "python",
   "pygments_lexer": "ipython3",
   "version": "3.12.3"
  }
 },
 "nbformat": 4,
 "nbformat_minor": 2
}
