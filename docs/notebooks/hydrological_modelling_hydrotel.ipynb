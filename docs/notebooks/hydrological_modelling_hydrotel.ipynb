{
 "cells": [
  {
   "cell_type": "markdown",
   "id": "0",
   "metadata": {},
   "source": [
    "# Hydrological modelling - HYDROTEL\n",
    "\n",
    "<div class=\"alert alert-warning\"> <b>WARNING</b>\n",
    "    \n",
    "`xHydro` provides tools to execute HYDROTEL, but will not prepare the model itself. This should be done beforehand.\n",
    "\n",
    "</div>\n",
    "\n",
    "<div class=\"alert alert-info\"> <b>INFO</b>\n",
    "    \n",
    "The HYDROTEL executable can be acquired from this [GitHub repository](https://github.com/INRS-Modelisation-hydrologique/hydrotel).\n",
    "\n",
    "</div>\n",
    "\n",
    "`xHydro` provides a collection of functions designed to facilitate hydrological modelling, focusing on two key models: [HYDROTEL](https://github.com/INRS-Modelisation-hydrologique/hydrotel) and a suite of models emulated by the [Raven Hydrological Framework](https://raven.uwaterloo.ca/). It is important to note that Raven already possesses an extensive Python library, [RavenPy](https://github.com/CSHS-CWRA/RavenPy), which enables users to build, calibrate, and execute models. `xHydro` wraps some of these functions to support multi-model assessments with HYDROTEL, though users seeking advanced functionalities may prefer to use `RavenPy` directly. \n",
    "\n",
    "The primary contribution of `xHydro` to hydrological modelling is thus its support for HYDROTEL, a model that previously lacked a dedicated Python library. However, building a HYDROTEL project is best done using PHYSITEL and the HYDROTEL GUI, both of which are proprietary software. Therefore, for the time being, `xHydro` is designed to facilitate the execution and modification of an already established HYDROTEL project, rather than assist in building one from scratch.\n",
    "\n",
    "A similar Notebook to this one, but that covers `RavenPy` models, is available [here](hydrological_modelling_raven.ipynb).\n",
    "\n",
    "## Basic information"
   ]
  },
  {
   "cell_type": "code",
   "execution_count": null,
   "id": "1",
   "metadata": {},
   "outputs": [],
   "source": [
    "import xhydro as xh\n",
    "import xhydro.modelling as xhm"
   ]
  },
  {
   "cell_type": "code",
   "execution_count": null,
   "id": "2",
   "metadata": {
    "editable": true,
    "nbsphinx": "hidden",
    "slideshow": {
     "slide_type": ""
    },
    "tags": []
   },
   "outputs": [],
   "source": [
    "# Workaround for determining the notebook folder within a running notebook\n",
    "# This cell is not visible when the documentation is built.\n",
    "\n",
    "from __future__ import annotations\n",
    "\n",
    "try:\n",
    "    from _finder import _find_current_folder\n",
    "\n",
    "    notebook_folder = _find_current_folder()\n",
    "except ImportError:\n",
    "    from pathlib import Path\n",
    "\n",
    "    notebook_folder = Path().cwd()\n",
    "\n",
    "import logging\n",
    "\n",
    "logger = logging.getLogger()\n",
    "logger.setLevel(logging.CRITICAL)"
   ]
  },
  {
   "cell_type": "markdown",
   "id": "3",
   "metadata": {},
   "source": [
    "The `xHydro` modelling framework is based on a `model_config` dictionary, which is meant to contain all necessary information to execute a given hydrological model. For example, depending on the model, it can store meteorological datasets directly, paths to datasets (netCDF files or other), csv configuration files, parameters, and basically anything that is required to configure and execute an hydrological model.\n",
    "\n",
    "The list of required inputs for the dictionary can be obtained one of two ways. The first is to look at the hydrological model's class, such as `xhydro.modelling.Hydrotel`. The second is to use the `xh.modelling.get_hydrological_model_inputs` function to get a list of the required keys for a given model, as well as the documentation."
   ]
  },
  {
   "cell_type": "code",
   "execution_count": null,
   "id": "4",
   "metadata": {},
   "outputs": [],
   "source": [
    "help(xhm.get_hydrological_model_inputs)"
   ]
  },
  {
   "cell_type": "code",
   "execution_count": null,
   "id": "5",
   "metadata": {},
   "outputs": [],
   "source": [
    "import xhydro as xh\n",
    "import xhydro.modelling as xhm\n",
    "\n",
    "# This function can be called to get a list of the keys for a given model, as well as its documentation.\n",
    "inputs, docs = xhm.get_hydrological_model_inputs(\"Hydrotel\", required_only=False)\n",
    "inputs"
   ]
  },
  {
   "cell_type": "code",
   "execution_count": null,
   "id": "6",
   "metadata": {},
   "outputs": [],
   "source": [
    "print(docs)"
   ]
  },
  {
   "cell_type": "markdown",
   "id": "7",
   "metadata": {},
   "source": [
    "HYDROTEL and Raven vary in terms of required inputs and available functions, but an effort will be made to standardize the outputs as much as possible. Currently, all models include the following three functions:\n",
    "\n",
    "- `.run()`: Executes the model, reformats the outputs to be compatible with analysis tools in `xHydro`, and returns the simulated streamflow as a `xarray.Dataset`.\n",
    "  - The streamflow variable will be named `q` and will have units of `m3 s-1`.\n",
    "  - For 1D data (such as hydrometric stations), the corresponding dimension in the dataset will be identified by the `cf_role: timeseries_id` attribute.\n",
    "  \n",
    "- `.get_inputs()`: Retrieves the meteorological inputs used by the model.\n",
    "\n",
    "- `.get_streamflow()`: Retrieves the simulated streamflow output from the model.\n",
    "\n",
    "## Initializing and running a calibrated model\n",
    "\n",
    "A typical HYDROTEL project consists of multiple subfolders and files that describe meteorological inputs, watershed characteristics, and more. An example is given in the cell below. The model primarily relies on three key files:\n",
    "\n",
    "- A project file located in the main directory, which may have any given name (e.g., `SLNO.csv`).\n",
    "- A `simulation/simulation/simulation.csv` file that manages all the parameters for the run, including simulation dates, the path to meteorological data, and the physical processes to be used.\n",
    "- A `simulation/simulation/output.csv` file that specifies which results to produce, such as which variables and river reaches to output results for.\n",
    "\n",
    "When initializing a `Hydrotel` instance through `xHydro`, two options are available:\n",
    "\n",
    "- `use_defaults = False` (default): This will attempt to read the three required files from the project folder.\n",
    "- `use_defaults = True`: This option provides an approximation of typical parameters from a project, but it may need to be reviewed and adjusted.\n",
    "\n",
    "In all cases, providing additional configuration options to `project_config`, `simulation_config`, or `output_config` when initializing the HYDROTEL model, or through the `.update_config()` function later, will update the corresponding CSV files accordingly. \n",
    "\n",
    "The following parameters must always be specified:\n",
    "\n",
    "- `DATE DEBUT` (start date)\n",
    "- `DATE FIN` (end date)\n",
    "- `PAS DE TEMPS` (timestep frequency)\n",
    "\n",
    "If these parameters are not already present in `simulation.csv`, they should be added to `simulation_config`. Additionally, either `FICHIER STATIONS METEO` (meteorological stations file) or `FICHIER GRILLE METEO` (meteorological grid file) must be specified to guide the model to the meteorological data.\n",
    "\n",
    "If using the defaults, streamflow for all river reaches will be outputted. You can modify `output.csv` to change this behavior.\n"
   ]
  },
  {
   "cell_type": "code",
   "execution_count": null,
   "id": "8",
   "metadata": {
    "editable": true,
    "nbsphinx": "hidden",
    "slideshow": {
     "slide_type": ""
    },
    "tags": [
     "hide_code"
    ]
   },
   "outputs": [],
   "source": [
    "# This is a hidden cell. We'll create a fake Hydrotel directory for the purpose of this example.\n",
    "import xhydro.testing\n",
    "\n",
    "xhydro.testing.utils.fake_hydrotel_project(\n",
    "    notebook_folder / \"_data\" / \"example_hydrotel\", meteo=False, debit_aval=True\n",
    ")"
   ]
  },
  {
   "cell_type": "code",
   "execution_count": null,
   "id": "9",
   "metadata": {},
   "outputs": [],
   "source": [
    "from pathlib import Path\n",
    "\n",
    "\n",
    "def print_file_structure(directory, indent=0):\n",
    "    path = Path(directory)\n",
    "    for item in path.iterdir():\n",
    "        print(\" \" * indent + item.name)\n",
    "        # If the item is a directory, recurse into it\n",
    "        if item.is_dir():\n",
    "            print_file_structure(item, indent + 2)\n",
    "\n",
    "\n",
    "# Example usage\n",
    "print_file_structure(notebook_folder / \"_data\" / \"example_hydrotel\")"
   ]
  },
  {
   "cell_type": "code",
   "execution_count": null,
   "id": "10",
   "metadata": {},
   "outputs": [],
   "source": [
    "model_config = {\n",
    "    \"model_name\": \"Hydrotel\",\n",
    "    \"project_dir\": notebook_folder / \"_data\" / \"example_hydrotel\",\n",
    "    \"project_file\": \"projet.csv\",\n",
    "    \"simulation_config\": {\n",
    "        \"DATE DEBUT\": \"1981-01-01\",\n",
    "        \"DATE FIN\": \"1981-12-31\",\n",
    "        \"FICHIER STATIONS METEO\": \"meteo/ERA5.nc\",\n",
    "        \"PAS DE TEMPS\": 24,\n",
    "    },\n",
    "    \"output_config\": {\"TRONCONS\": 1, \"DEBITS_AVAL\": 1},\n",
    "    \"use_defaults\": True,\n",
    "    \"executable\": \"path/to/Hydrotel/executable\",\n",
    "}"
   ]
  },
  {
   "cell_type": "markdown",
   "id": "11",
   "metadata": {},
   "source": [
    "With `model_config` on hand, an instance of the hydrological model can be initialized using `xhydro.modelling.hydrological_model` or the `xhydro.modelling.Hydrotel` class directly."
   ]
  },
  {
   "cell_type": "code",
   "execution_count": null,
   "id": "12",
   "metadata": {},
   "outputs": [],
   "source": [
    "ht = xhm.hydrological_model(model_config)\n",
    "\n",
    "print(f\"Simulation directory, taken from the project file: '{ht.simulation_dir}'\\n\")\n",
    "print(f\"Project configuration: '{ht.project_config}'\\n\")\n",
    "print(f\"Simulation configuration: '{ht.simulation_config}'\\n\")\n",
    "print(f\"Output configuration: '{ht.output_config}'\")"
   ]
  },
  {
   "cell_type": "markdown",
   "id": "13",
   "metadata": {},
   "source": [
    "### Formatting meteorological data\n",
    "\n",
    "The acquisition of raw meteorological data is covered in the [GIS notebook](gis.ipynb) and [Use Case Example](use_case.ipynb) notebooks. Therefore, this notebook will use a test dataset."
   ]
  },
  {
   "cell_type": "code",
   "execution_count": null,
   "id": "14",
   "metadata": {},
   "outputs": [],
   "source": [
    "import xarray as xr\n",
    "\n",
    "from xhydro.testing.helpers import (  # In-house function to get data from the xhydro-testdata repo\n",
    "    deveraux,\n",
    ")\n",
    "\n",
    "D = deveraux()\n",
    "\n",
    "meteo_file = D.fetch(\"hydro_modelling/ERA5_testdata.nc\")\n",
    "ds = xr.open_dataset(meteo_file)\n",
    "ds"
   ]
  },
  {
   "cell_type": "markdown",
   "id": "15",
   "metadata": {},
   "source": [
    "Every hydrological model has different requirements when it comes to their input data. In this example, the data variables have units (temperatures in `°K` and precipitation in `m`) and time units that would not be compatible with the requirements for the Hydrotel model. Additionally, while HYDROTEL can manage 2D grids, it is often preferable to have a 1D spatial dimension to quicken some manipulations done by the model.\n",
    "\n",
    "The function `xh.modelling.format_input` can be used to reformat CF-compliant datasets for use in hydrological models."
   ]
  },
  {
   "cell_type": "code",
   "execution_count": null,
   "id": "16",
   "metadata": {},
   "outputs": [],
   "source": [
    "help(xh.modelling.format_input)"
   ]
  },
  {
   "cell_type": "code",
   "execution_count": null,
   "id": "17",
   "metadata": {},
   "outputs": [],
   "source": [
    "# You can also use the 'save_as' argument to save the new file(s) in your project folder.\n",
    "ds_reformatted, config = xh.modelling.format_input(\n",
    "    ds,\n",
    "    \"Hydrotel\",\n",
    "    save_as=notebook_folder / \"_data\" / \"example_hydrotel\" / \"meteo\" / \"ERA5.nc\",\n",
    ")"
   ]
  },
  {
   "cell_type": "markdown",
   "id": "18",
   "metadata": {},
   "source": [
    "HYDROTEL requires a configuration file to accompany the meteorological file. This configuration file must have the same name as the corresponding NetCDF file, but with a `.nc.config` extension. \n",
    "\n",
    "If the `save_as` option is used, this configuration file will also be saved along with the meteorological data.\n"
   ]
  },
  {
   "cell_type": "code",
   "execution_count": null,
   "id": "19",
   "metadata": {},
   "outputs": [],
   "source": [
    "ds_reformatted"
   ]
  },
  {
   "cell_type": "code",
   "execution_count": null,
   "id": "20",
   "metadata": {},
   "outputs": [],
   "source": [
    "config"
   ]
  },
  {
   "cell_type": "markdown",
   "id": "21",
   "metadata": {
    "editable": true,
    "slideshow": {
     "slide_type": ""
    },
    "tags": []
   },
   "source": [
    "### Validating the Meteorological Data\n",
    "\n",
    "Before executing hydrological models, a few basic checks will be performed automatically. However, users may want to conduct more advanced health checks on the meteorological inputs (e.g., identifying unrealistic values). This can be done using `xhydro.utils.health_checks`. For the full list of available checks, refer to [the 'xscen' documentation](https://xscen.readthedocs.io/en/latest/notebooks/3_diagnostics.html#Health-checks).\n",
    "\n",
    "We can use `.get_inputs()` to automatically retrieve the meteorological data. In this example, we'll ensure there are no abnormal meteorological values or sequences of values."
   ]
  },
  {
   "cell_type": "code",
   "execution_count": null,
   "id": "22",
   "metadata": {},
   "outputs": [],
   "source": [
    "health_checks = {\n",
    "    \"raise_on\": [],  # If an entry is not here, it will warn the user instead of raising an exception.\n",
    "    \"flags\": {\n",
    "        \"pr\": {  # You can have specific flags per variable.\n",
    "            \"negative_accumulation_values\": {},\n",
    "            \"very_large_precipitation_events\": {},\n",
    "            \"outside_n_standard_deviations_of_climatology\": {\"n\": 5},\n",
    "            \"values_repeating_for_n_or_more_days\": {\"n\": 5},\n",
    "        },\n",
    "        \"tasmax\": {\n",
    "            \"tasmax_below_tasmin\": {},\n",
    "            \"temperature_extremely_low\": {},\n",
    "            \"temperature_extremely_high\": {},\n",
    "            \"outside_n_standard_deviations_of_climatology\": {\"n\": 5},\n",
    "            \"values_repeating_for_n_or_more_days\": {\"n\": 5},\n",
    "        },\n",
    "        \"tasmin\": {\n",
    "            \"temperature_extremely_low\": {},\n",
    "            \"temperature_extremely_high\": {},\n",
    "            \"outside_n_standard_deviations_of_climatology\": {\"n\": 5},\n",
    "            \"values_repeating_for_n_or_more_days\": {\"n\": 5},\n",
    "        },\n",
    "    },\n",
    "}"
   ]
  },
  {
   "cell_type": "code",
   "execution_count": null,
   "id": "23",
   "metadata": {},
   "outputs": [],
   "source": [
    "from xclim.core.units import amount2rate\n",
    "\n",
    "ds_in = ht.get_inputs()\n",
    "ds_in[\"pr\"] = amount2rate(ds_in[\"pr\"])  # Precipitation in xclim needs to be a flux.\n",
    "\n",
    "xh.utils.health_checks(ds_in, **health_checks)"
   ]
  },
  {
   "cell_type": "markdown",
   "id": "24",
   "metadata": {},
   "source": [
    "### Executing the model\n",
    "A few basic checks are performed when the `.run()` function is called, before executing the model itself. In the case of HYDROTEL, these checks will be made:\n",
    "\n",
    "- All files mentioned in the configuration exist.\n",
    "- The meteorological dataset has the dimensions, coordinates, and variables named in its configuration file (e.g. `ERA5.nc.config`, in this example).\n",
    "- The dataset has a standard calendar.\n",
    "- The frequency is uniform (i.e. all time steps are equally spaced).\n",
    "- The start and end dates are contained in the dataset.\n",
    "- The dataset is complete (i.e. no missing values).\n",
    "\n",
    "Only if these checks pass will the function proceed to execute the model. Note that HYDROTEL itself will perform a series of checkups, which is why they are kept at a minimum in `xHydro`.\n",
    "\n",
    "Once the model is executed, `xHydro` will automatically reformat the NetCDF file to bring it closer to CF conventions, ensuring compatibility with other `xHydro` modules. Note that, at this time, this reformatting only supports the outgoing streamflow."
   ]
  },
  {
   "cell_type": "code",
   "execution_count": null,
   "id": "25",
   "metadata": {},
   "outputs": [],
   "source": [
    "# HYDROTEL has a few specific options\n",
    "help(ht.run)"
   ]
  },
  {
   "cell_type": "code",
   "execution_count": null,
   "id": "26",
   "metadata": {},
   "outputs": [],
   "source": [
    "# For the purpose of this example, we'll leave 'dry_run' as True.\n",
    "print(\"Command that would be run in the terminal:\")\n",
    "ht.run(check_missing=True, dry_run=True)"
   ]
  },
  {
   "cell_type": "code",
   "execution_count": null,
   "id": "27",
   "metadata": {},
   "outputs": [],
   "source": [
    "# This is how the output would look like after reformatting (which was skipped by the dry_run argument)\n",
    "ht._standardise_outputs()\n",
    "ht.get_streamflow()"
   ]
  },
  {
   "cell_type": "markdown",
   "id": "28",
   "metadata": {},
   "source": [
    "## Model calibration\n",
    "\n",
    "<div class=\"alert alert-warning\"> <b>WARNING</b>\n",
    "    \n",
    "Only Raven-based models are currently implemented.\n",
    "\n",
    "</div>"
   ]
  }
 ],
 "metadata": {
  "language_info": {
   "codemirror_mode": {
    "name": "ipython",
    "version": 3
   },
   "file_extension": ".py",
   "mimetype": "text/x-python",
   "name": "python",
   "nbconvert_exporter": "python",
   "pygments_lexer": "ipython3",
   "version": "3.12.10"
  }
 },
 "nbformat": 4,
 "nbformat_minor": 5
}
