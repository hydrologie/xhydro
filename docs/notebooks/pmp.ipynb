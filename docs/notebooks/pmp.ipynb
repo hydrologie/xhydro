{
 "cells": [
  {
   "cell_type": "markdown",
   "metadata": {},
   "source": [
    "# Probable Maximum Precipitation (PMP) module"
   ]
  },
  {
   "cell_type": "markdown",
   "metadata": {},
   "source": [
    "This example shows how to use the PMP module to compute the Probable Maximum Precipitation from climate change scenarios.  This module allows to compute the PMP for each individual pixel on a grid and for aggregated values of precipitation following the methodology shown by Clavet-Gaumont et al. (2017). DOI: https://doi.org/10.1016/j.ejrh.2017.07.003."
   ]
  },
  {
   "cell_type": "code",
   "execution_count": null,
   "metadata": {},
   "outputs": [],
   "source": [
    "from pathlib import Path\n",
    "\n",
    "import matplotlib.pyplot as plt\n",
    "import numpy as np\n",
    "import pooch\n",
    "import xarray as xr\n",
    "\n",
    "from xhydro.indicators import pmp\n",
    "from xhydro.testing.helpers import deveraux"
   ]
  },
  {
   "cell_type": "markdown",
   "metadata": {},
   "source": [
    "## Open data\n",
    "\n",
    "This example uses a sample of 2-years and 3x3 grid cells from the CMIP model which can be accessed from the xhydro-testdata repository. It should be noted that this example seeks to show the functionality of the package and not to provide a complete analysis of the PMP, which requires a longer data time period."
   ]
  },
  {
   "cell_type": "code",
   "execution_count": null,
   "metadata": {},
   "outputs": [],
   "source": [
    "import xhydro as xh\n",
    "\n",
    "path_day_zip = deveraux().fetch(\n",
    "    \"pmp/CMIP.CCCma.CanESM5.historical.r1i1p1f1.day.gn.zarr.zip\",\n",
    "    pooch.Unzip(),\n",
    ")\n",
    "path_fx_zip = deveraux().fetch(\n",
    "    \"pmp/CMIP.CCCma.CanESM5.historical.r1i1p1f1.fx.gn.zarr.zip\",\n",
    "    pooch.Unzip(),\n",
    ")\n",
    "\n",
    "path_day_zarr = (\n",
    "    Path(path_day_zip[0]).parents[1]\n",
    "    / \"CMIP.CCCma.CanESM5.historical.r1i1p1f1.day.gn.zarr\"\n",
    ")\n",
    "path_fx_zarr = (\n",
    "    Path(path_fx_zip[0]).parents[1]\n",
    "    / \"CMIP.CCCma.CanESM5.historical.r1i1p1f1.fx.gn.zarr\"\n",
    ")"
   ]
  },
  {
   "cell_type": "markdown",
   "metadata": {},
   "source": [
    "For this example, the CMIP simulations on an daily scale  were used since it contains the variables necessary for the computing of the PMP:\n",
    "\n",
    "ds_day\n",
    "* pr --> Precipitation_flux\n",
    "* snw --> Snow water equivalent\n",
    "* hus --> Specific humidity\n",
    "* zg --> Geopotential height\n",
    "\n",
    "ds_fx\n",
    "* orog --> Surface altitude"
   ]
  },
  {
   "cell_type": "code",
   "execution_count": null,
   "metadata": {},
   "outputs": [],
   "source": [
    "ds_day = xr.open_zarr(path_day_zarr)\n",
    "ds_fx = xr.open_zarr(path_fx_zarr)"
   ]
  },
  {
   "cell_type": "markdown",
   "metadata": {},
   "source": [
    "## 1. PMP for each individual pixel"
   ]
  },
  {
   "cell_type": "markdown",
   "metadata": {},
   "source": [
    "### 1.1. Major precipitations events (pe)\n",
    "\n",
    "Sum of precipitation over 1 day and retention of the year's most intense storms.\n",
    "\n",
    "The 10% most intense storms are retained to avoid overmaximizing small precipitation events."
   ]
  },
  {
   "cell_type": "code",
   "execution_count": null,
   "metadata": {},
   "outputs": [],
   "source": [
    "pe = pmp.major_precipitation_events(ds_day.rf, windows=[1], quantile=0.9)"
   ]
  },
  {
   "cell_type": "markdown",
   "metadata": {},
   "source": [
    "### 1.2 Calculating daily precipitable water (pw)\n",
    "\n",
    "Integration of specific humidity for all pressure levels for 1 day. Then, only the pw values associated with the major precipitation events (pe) are selected.\n"
   ]
  },
  {
   "cell_type": "code",
   "execution_count": null,
   "metadata": {},
   "outputs": [],
   "source": [
    "pw = pmp.precipitable_water(\n",
    "    ds_day.hus,\n",
    "    ds_day.zg,\n",
    "    ds_fx.orog,\n",
    "    windows=[1],\n",
    "    add_pre_lay=False,\n",
    ")\n",
    "pw_events = pw.where(pe > 0)"
   ]
  },
  {
   "cell_type": "markdown",
   "metadata": {},
   "source": [
    "###  1.3. Monthly 100-year return value of precipitable water (pw100)\n",
    "\n",
    "According to Clavet-Gaumont et al. (2017), the pw100 is calculated using the Generalized Extreme Value (GEV) and limiting the maximum value for PW100 to be less than 20% larger than the largest value of the maximum PW values (mf=0.2)."
   ]
  },
  {
   "cell_type": "code",
   "execution_count": null,
   "metadata": {},
   "outputs": [],
   "source": [
    "pw100 = pmp.precipitable_water_100y(\n",
    "    pw.sel(window=1).chunk(dict(time=-1)), dist=\"genextreme\", method=\"ML\", mf=0.2\n",
    ")"
   ]
  },
  {
   "cell_type": "markdown",
   "metadata": {},
   "source": [
    "### 1.4.  Maximization ratio (r) and Maximized rainfall (pmax)"
   ]
  },
  {
   "cell_type": "code",
   "execution_count": null,
   "metadata": {},
   "outputs": [],
   "source": [
    "r = pw100 / pw_events\n",
    "pmax = r * pe"
   ]
  },
  {
   "cell_type": "markdown",
   "metadata": {},
   "source": [
    "### 1.5. Definition of seasons\n",
    "\n",
    "1) The start and end of winter consider a minimum number of days with snow of 14 and 90 days, respectively, to guarantee snow accumulation at the beginning of winter and that there is no thaw at the end.\n",
    "\n",
    "2) The start and end of spring are defined 60 days before and 30 days after the end of winter."
   ]
  },
  {
   "cell_type": "code",
   "execution_count": null,
   "metadata": {},
   "outputs": [],
   "source": [
    "mask = pmp.compute_spring_and_summer_mask(\n",
    "    ds_day.snw,\n",
    "    thresh=\"1 cm\",\n",
    "    window_wint_start=14,\n",
    "    window_wint_end=14,\n",
    "    spr_start=60,\n",
    "    spr_end=30,\n",
    "    freq=\"YS-SEP\",\n",
    ")\n",
    "\n",
    "pmax_spring = (pmax * mask.mask_spring).rename(\"pmp_spring\")\n",
    "pmax_summer = (pmax * mask.mask_summer).rename(\"pmp_summer\")"
   ]
  },
  {
   "cell_type": "markdown",
   "metadata": {},
   "source": [
    "### 1.6. PMP results\n",
    "\n",
    "The spring and summer PMP values for each of the pixels in the domain are presented below."
   ]
  },
  {
   "cell_type": "code",
   "execution_count": null,
   "metadata": {},
   "outputs": [],
   "source": [
    "pmp_spring = pmax_spring.max(\"time\")\n",
    "pmp_summer = pmax_summer.max(\"time\")"
   ]
  },
  {
   "cell_type": "code",
   "execution_count": null,
   "metadata": {},
   "outputs": [],
   "source": [
    "pmp_spring.sel(window=1).plot()"
   ]
  },
  {
   "cell_type": "code",
   "execution_count": null,
   "metadata": {},
   "outputs": [],
   "source": [
    "pmp_summer.sel(window=1).plot()"
   ]
  },
  {
   "cell_type": "markdown",
   "metadata": {},
   "source": [
    "## 2. PMP with aggregated storm configurations\n",
    "\n",
    "The spatial_average_storm_configurations function allows to spatially aggregate the storms following the different configurations shown in Clavet-Gaumont et al. (2017). Once the variables rf, pw, snw are aggregated, the calculation of the PMP follows the same steps shown above."
   ]
  },
  {
   "cell_type": "code",
   "execution_count": null,
   "metadata": {},
   "outputs": [],
   "source": [
    "radius = 3  # Maximum radius of the storm.\n",
    "\n",
    "ds_day_agg = (\n",
    "    pmp.spatial_average_storm_configurations(ds_day.rf, radius)\n",
    "    .chunk(dict(time=-1))\n",
    "    .compute()\n",
    ")\n",
    "pe_agg = pmp.major_precipitation_events(\n",
    "    ds_day_agg.chunk(dict(conf=-1)), windows=[1], quantile=0.9\n",
    ").compute()\n",
    "\n",
    "# Precipitable water (pw) must first be calculated in a distributed manner and then spatially averaged to obtain the aggregated precipitable water.\n",
    "pw_agg = pmp.spatial_average_storm_configurations(pw, radius).compute()\n",
    "\n",
    "pw_events_agg = pw_agg.where(pe_agg > 0)\n",
    "\n",
    "pw100_agg = pmp.precipitable_water_100y(\n",
    "    pw_agg.sel(window=1).chunk(dict(time=-1)), dist=\"genextreme\", method=\"ML\", mf=0.2\n",
    ").compute()\n",
    "\n",
    "r_agg = pw100_agg / pw_events_agg\n",
    "\n",
    "pmax_agg = r_agg * pe_agg\n",
    "\n",
    "# To create the spring and summer masks, the snow cover must first be spatially averaged (ds_snw_agg).\n",
    "ds_snw_agg = (\n",
    "    pmp.spatial_average_storm_configurations(ds_day.snw, radius)\n",
    "    .chunk(dict(time=-1))\n",
    "    .compute()\n",
    ")\n",
    "\n",
    "mask_agg = pmp.compute_spring_and_summer_mask(\n",
    "    ds_snw_agg.isel(\n",
    "        y=slice(0, -1), x=slice(0, -1)\n",
    "    ),  # Cut the domain because the aggregation creates NaN\n",
    "    thresh=\"1 cm\",\n",
    "    window_wint_start=14,\n",
    "    window_wint_end=14,\n",
    "    spr_start=60,\n",
    "    spr_end=30,\n",
    "    freq=\"YS-SEP\",\n",
    ").compute()\n",
    "\n",
    "pmax_agg_cut = pmax_agg.isel(y=slice(0, -1), x=slice(0, -1))\n",
    "\n",
    "pmax_spring_agg = (pmax_agg_cut * mask_agg.mask_spring).rename(\"pmp_spring\")\n",
    "pmax_summer_agg = (pmax_agg_cut * mask_agg.mask_summer).rename(\"pmp_summer\")"
   ]
  },
  {
   "cell_type": "markdown",
   "metadata": {},
   "source": [
    "### 2.1. PMP results\n",
    "\n",
    "The results of the PMP at y=46.04, x= 284.06 for different storm configurations are shown below."
   ]
  },
  {
   "cell_type": "code",
   "execution_count": null,
   "metadata": {},
   "outputs": [],
   "source": [
    "pmp_spring_agg = pmax_spring_agg.max(\"time\")\n",
    "pmp_summer_agg = pmax_summer_agg.max(\"time\")"
   ]
  },
  {
   "cell_type": "code",
   "execution_count": null,
   "metadata": {},
   "outputs": [],
   "source": [
    "sp_agg = pmp_spring_agg.sel(window=1, y=46.04, x=284.06)\n",
    "sm_agg = pmp_summer_agg.sel(window=1, y=46.04, x=284.06)\n",
    "\n",
    "plt.plot(np.arange(len(sp_agg)), sp_agg.values, \"o\", label=\"Spring\")\n",
    "plt.plot(np.arange(len(sm_agg)), sm_agg.values, \"o\", label=\"Summer\")\n",
    "plt.xticks(ticks=np.arange(len(sp_agg)), labels=sp_agg.conf.values)\n",
    "plt.ylabel(\"PMP\")\n",
    "plt.xlabel(\"Storm configuration\")\n",
    "plt.legend()"
   ]
  }
 ],
 "metadata": {
  "language_info": {
   "codemirror_mode": {
    "name": "ipython",
    "version": 3
   },
   "file_extension": ".py",
   "mimetype": "text/x-python",
   "name": "python",
   "nbconvert_exporter": "python",
   "pygments_lexer": "ipython3",
   "version": "3.12.7"
  }
 },
 "nbformat": 4,
 "nbformat_minor": 4
}
