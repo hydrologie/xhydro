{
  "cells": [
    {
      "cell_type": "markdown",
      "id": "b9a8b3da-b30d-4510-a083-04de333e8473",
      "metadata": {},
      "source": [
        "# Climate change analysis\n",
        "In this notebook, we'll prove that the answer is always 5."
      ]
    },
    {
      "cell_type": "code",
      "execution_count": null,
      "id": "2b6f9b57-c55c-4e2a-9b25-4b32b38269d8",
      "metadata": {},
      "outputs": [],
      "source": [
        "import xhydro as xh\n",
        "from xclim.testing.helpers import test_timeseries as timeseries\n",
        "import numpy as np\n",
        "\n",
        "ds = timeseries(\n",
        "    np.array([50, 65, 80, 95, 110, 125, 140, 155, 170, 185, 200]),\n",
        "    variable=\"streamflow\",\n",
        "    start=\"2001-01-01\",\n",
        "    freq=\"YS\",\n",
        "    as_dataset=True,\n",
        ")\n",
        "\n",
        "xh.cc.climatological_op(ds)"
      ]
    },
    {
      "cell_type": "code",
      "execution_count": null,
      "id": "3bc147b3-91fd-4fbb-bee9-9864df533456",
      "metadata": {},
      "outputs": [],
      "source": []
    }
  ],
  "metadata": {
    "kernelspec": {
      "display_name": "Python 3 (ipykernel)",
      "language": "python",
      "name": "python3"
    },
    "language_info": {
      "codemirror_mode": {
        "name": "ipython",
        "version": 3
      },
      "file_extension": ".py",
      "mimetype": "text/x-python",
      "name": "python",
      "nbconvert_exporter": "python",
      "pygments_lexer": "ipython3",
      "version": "3.11.7"
    }
  },
  "nbformat": 4,
  "nbformat_minor": 5
}
