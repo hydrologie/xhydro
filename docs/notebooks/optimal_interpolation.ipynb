{
 "cells": [
  {
   "cell_type": "markdown",
   "metadata": {},
   "source": [
    "# Optimal interpolation module"
   ]
  },
  {
   "cell_type": "markdown",
   "metadata": {},
   "source": [
    "Optimal interpolation is a tool that allows combining a spatially distributed field (i.e. the \"background field\") with point observations in such a way that the entire field can be adjusted according to deviations between the observations and the field at the point of observations. For example, it can be used to combine a field of reanalysis precipitation (e.g. ERA5) with observation records, and thus adjust the reanalysis precipitation over the entire domain in a statistically optimal manner.\n",
    "\n",
    "This page demonstrates how to use `xhydro` to perform optimal interpolation using field-like simulations and point observations for hydrological modelling. In this case, the background field is a set of outputs from a distributed hydrological model and the observations correspond to real hydrometric stations. The aim is to correct the background field (i.e. the distributed hydrological simulations) using optimal interpolation, as in Lachance-Cloutier et al. (2017).\n",
    "\n",
    "*Lachance-Cloutier, S., Turcotte, R. and Cyr, J.F., 2017. Combining streamflow observations and hydrologic simulations for the retrospective estimation of daily streamflow for ungauged rivers in southern Quebec (Canada). Journal of hydrology, 550, pp.294-306.*"
   ]
  },
  {
   "cell_type": "code",
   "execution_count": null,
   "metadata": {},
   "outputs": [],
   "source": [
    "import datetime as dt\n",
    "from functools import partial\n",
    "from pathlib import Path\n",
    "\n",
    "import matplotlib.pyplot as plt\n",
    "import numpy as np\n",
    "import pandas as pd\n",
    "import pooch\n",
    "import xarray as xr\n",
    "from scipy.stats import norm\n",
    "\n",
    "import xhydro as xh\n",
    "import xhydro.optimal_interpolation.optimal_interpolation_fun as opt\n",
    "from xhydro.optimal_interpolation.ECF_climate_correction import general_ecf\n",
    "from xhydro.testing.helpers import deveraux"
   ]
  },
  {
   "cell_type": "markdown",
   "metadata": {},
   "source": [
    "## A quick example\n",
    "\n",
    "Imagine a scenario where we have 3 streamflow observation stations and a hydrological model that simulated flows at those 3 sites and at another extra 2 sites (for a total of 5 simulation sites). We would like to improve the quality of the simulations at each of the 5 sites and even more so at the 2 extra sites where there are no observations to help train the model. The setup could look something like this:\n",
    "\n",
    "* Station 1: Observed + simulated\n",
    "* Station 2: Observed + simulated\n",
    "* Station 3: Observed + simulated\n",
    "* Station 4: Simulated only\n",
    "* Station 5: Simulated only\n",
    "\n",
    "Optimal interpolation can help, but we will need some basic information with respect to each of the stations (simulated and observed):\n",
    "\n",
    "* Catchment areas (to scale the errors)\n",
    "* Catchment latitude / longitudes, to develop the spatial error model\n",
    "* Observed data at the 3 gauged locations\n",
    "* Simulated data at the 5 locations\n",
    "\n",
    "Let's define these now and show the stations on a map:"
   ]
  },
  {
   "cell_type": "code",
   "execution_count": null,
   "metadata": {},
   "outputs": [],
   "source": [
    "# Define the station coordinates. Start with observed (Stations 1-3)\n",
    "lat_obs = np.array([45.0, 45.5, 45.8])\n",
    "lon_obs = np.array([-71.0, -70.4, -71.8])\n",
    "\n",
    "# And now the simulated (Stations 1-5). Notice that the first three stations are the same as\n",
    "# the observation stations.\n",
    "lat_est = np.array([45.0, 45.5, 45.8, 44.2, 45.4])\n",
    "lon_est = np.array([-71.0, -70.4, -71.8, -70.2, -71.9])\n",
    "\n",
    "# We need catchment areas to scale data, in the same order as the latitudes and longitudes.\n",
    "drainage_area = np.array([480.0, 270.0, 620.0, 1000.0, 700.0])\n",
    "\n",
    "# We also need streamflow data for each site. In this example, we will use a single day, but\n",
    "# it would be possible to apply to each day of a time series. Notice that while the first three\n",
    "# stations correspond to the same stations for both the observed_flow and simulated_flow data,\n",
    "# The data is different because one is observed and the other is simulated.\n",
    "observed_flow = np.array([100.0, 110.0, 150.0])\n",
    "simulated_flow = np.array([108.0, 135.0, 148.0, 154.0, 88.0])"
   ]
  },
  {
   "cell_type": "markdown",
   "metadata": {},
   "source": [
    "![test](../../docs/_static/_images/test_station_locations_OI.png)\n",
    "\n",
    "We now have the basic data required to start processing using optimal interpolation. However, before doing so, we must provide some hyperparameters. Some are more complex than others, so let's break down the main steps.\n",
    "\n",
    "The first is the need to compute differences (also referred to as \"departures\") between observations and simulations where they both occur simultaneously. We also need to scale the data by the catchment area to ensure errors are relative and can then be interpolated. We then take the logarithm of these values to ensure extrapolation does not cause negative streamflow. We will reverse the transformation later."
   ]
  },
  {
   "cell_type": "code",
   "execution_count": null,
   "metadata": {},
   "outputs": [],
   "source": [
    "# Log-transform the scaled flow data\n",
    "scaled_simulated_flow = np.log(simulated_flow / drainage_area)\n",
    "scaled_observed_flow = np.log(observed_flow / drainage_area[0:3])\n",
    "\n",
    "# Compute the departure for the three observation stations.\n",
    "departures = scaled_simulated_flow[0:3] - scaled_observed_flow"
   ]
  },
  {
   "cell_type": "markdown",
   "metadata": {},
   "source": [
    "We will now need some information that may (or may not) be available for our observation sites and simulation sites. These include estimates of:\n",
    "\n",
    "* The variance of the observations at the gauged sites.\n",
    "* The variance of the simulated flows at the observation sites. This is a vector of size 3 in this example, i.e. one value per observation site. Note that this variance is that of the simulations at the observation sites, and not the variance of the observations themselves.\n",
    "* The variance of the simulated flows at the estimation sites. This is a vector of size 5 in this example, i.e. one value per simulation point, including those that also correspond to an observation site.\n",
    "\n",
    "We do not know these values for this test example, however these values can be estimated in real-world applications using long time series of log-transformed and scaled flows or using measurement error from the instrumentation at gauged sites. For this example, we will assume simple values of 1.0 for each case."
   ]
  },
  {
   "cell_type": "code",
   "execution_count": null,
   "metadata": {},
   "outputs": [],
   "source": [
    "# Define the ratio of the observed variance to that of the simulations. We set it to 0.15, but it could be adjusted\n",
    "# according to the level of confidence in each measure.\n",
    "var_obs = np.array([0.15, 0.15, 0.15])\n",
    "\n",
    "# Define the background field (simulations) variance at the observed sites\n",
    "bg_var_obs = (np.array([1.0, 1.0, 1.0]),)\n",
    "\n",
    "# Define the background field (simulations) variance at the simulated sites. Note that the first three stations\n",
    "# are the same as in the previous variable, as in our test case, the first three simulated stations are located\n",
    "# at the observation sites.\n",
    "bg_var_est = (np.array([1.0, 1.0, 1.0, 1.0, 1.0]),)"
   ]
  },
  {
   "cell_type": "markdown",
   "metadata": {},
   "source": [
    "If we had better estimates of these variables, we could change the 1.0 values to more appropriate values. However, these can also be adjusted according to past experience or by trial-and-error.\n",
    "\n",
    "The final piece of the puzzle is that of the error covariance function. In a nutshell, optimal interpolation will consider the distance between an observation (or multiple observations) and the site where we need to estimate the new flow value. We can easily understand that a simulation station that is very close to an observation station should be highly correlated with it, whereas a more distant point would be less correlated. We therefore need a covariance function that estimates (1) the degree of covariability between an observed and simulated point as a function of (2) the distance between those points. This is the ECF function, multiple models of which exist in the literature. In many instances, a model form will be imposed and parameters will be adjusted such that the model represents the existing covariance between points.\n",
    "\n",
    "In this test example, we have too few points and not enough timesteps to establish a meaningful model (and parameterization) from the data. We therefore impose a model. There are four that are built into `xhydro`, where par[0] and par[1] are the model parameters to be calibrated (in normal circumstances) and where *h* is the distance between the points:\n",
    "\n",
    "* Model 1: par[0] * (1 + h / par[1]) * exp(-h / par[1]) -- From Lachance-Cloutier et al. 2017.\n",
    "* Model 2: par[0] * exp(-0.5 * (h / par[1])**2)\n",
    "* Model 3: par[0] * exp(-h / par[1])\n",
    "* Model 4: par[0] * exp(-(h ** par[1]) / par[0])\n",
    "\n",
    " We will use model #4, but you can change it below and see how it affects results. Parameters can also be changed to assess their impacts."
   ]
  },
  {
   "cell_type": "code",
   "execution_count": null,
   "metadata": {},
   "outputs": [],
   "source": [
    "# Define the ECF function model. We use partial functions to do so, with the models being predefined in the\n",
    "# xhydro.optimal_interpolation.ECF_climate_correction package.\n",
    "ecf_fun = partial(general_ecf, form=4)\n",
    "\n",
    "# Now we can parameterize the ecf_fun with the model parameters that we want.\n",
    "# In this test example we will use values of 1.0 and 0.5 for par[0] and par[1], respectively.\n",
    "par = [1.0, 0.5]\n",
    "ecf = partial(ecf_fun, par=par)"
   ]
  },
  {
   "cell_type": "markdown",
   "metadata": {},
   "source": [
    "We can now run the optimal interpolation algorithm and retrieve the estimated value and variance of the uncertainty for each simulated site."
   ]
  },
  {
   "cell_type": "code",
   "execution_count": null,
   "metadata": {},
   "outputs": [],
   "source": [
    "print(f\"lat_est: {lat_est}\")\n",
    "print(f\"lon_est: {lon_est}\")\n",
    "print(f\"lat_obs: {lat_obs}\")\n",
    "print(f\"lon_obs: {lon_obs}\")\n",
    "print(f\"bg_departures: {departures}\")\n",
    "print(f\"bg_est: {scaled_simulated_flow}\")\n",
    "print(f\"bg_var_obs: {bg_var_obs}\")\n",
    "print(f\"bg_var_est: {bg_var_est}\")\n",
    "print(f\"var_obs: {var_obs}\")\n",
    "print(f\"ecf: {ecf}\")"
   ]
  },
  {
   "cell_type": "code",
   "execution_count": null,
   "metadata": {},
   "outputs": [],
   "source": [
    "# Display all the data that will be used for the optimal interpolation:\n",
    "\n",
    "\n",
    "# Launch the optimal interpolation with all the pre-established values.\n",
    "v_est, var_est, _ = opt.optimal_interpolation(\n",
    "    lat_est=lat_est,\n",
    "    lon_est=lon_est,\n",
    "    lat_obs=lat_obs,\n",
    "    lon_obs=lon_obs,\n",
    "    bg_departures=departures,\n",
    "    bg_est=scaled_simulated_flow,\n",
    "    bg_var_obs=bg_var_obs,\n",
    "    bg_var_est=bg_var_est,\n",
    "    var_obs=var_obs,\n",
    "    ecf=ecf,\n",
    "    precalcs={},  # To speedup calculations, not required here.\n",
    ")"
   ]
  },
  {
   "cell_type": "markdown",
   "metadata": {},
   "source": [
    "Finally, we can compute the actual best estimate value and the variance of the uncertainty distribution from these results:"
   ]
  },
  {
   "cell_type": "code",
   "execution_count": null,
   "metadata": {},
   "outputs": [],
   "source": [
    "# Transform back into absolute values and rescale by the drainage area\n",
    "estimated_flow = np.exp(v_est) * drainage_area\n",
    "\n",
    "print(f\"Estimated values are: {estimated_flow}\")\n",
    "print(f\"Simulated values were: {simulated_flow}\")\n",
    "print(f\"Observed values are: {observed_flow}\")"
   ]
  },
  {
   "cell_type": "markdown",
   "metadata": {},
   "source": [
    "As a last step, here is how we can estimate the distribution of possible values at the estimation sites. The v_est is the location of the distribution, and the v_est is the variance. This means we can model the distribution and generate quantile values."
   ]
  },
  {
   "cell_type": "code",
   "execution_count": null,
   "metadata": {},
   "outputs": [],
   "source": [
    "# Get the log-normal error model, whose variance depends on the interpolation variance and the variance of the departures.\n",
    "var_bg = np.var(departures)  # Variance of the departures of the background field\n",
    "var_est = (\n",
    "    var_est * var_bg\n",
    ")  # Complete error model that includes the interpolation variance and the departure variance.\n",
    "\n",
    "# Using the uncertainty estimation, get the 25th percentile of the estimated flows, and un-transform\n",
    "percentile_values = norm.ppf(np.array(25.0) / 100.0, loc=v_est, scale=np.sqrt(var_est))\n",
    "flows_25th_percentile = np.exp(percentile_values) * drainage_area\n",
    "\n",
    "# Do the same but with the 75th percentile.\n",
    "percentile_values = norm.ppf(np.array(75.0) / 100.0, loc=v_est, scale=np.sqrt(var_est))\n",
    "# Get the values in real units and scale according to drainage area\n",
    "flows_75th_percentile = np.exp(percentile_values) * drainage_area\n",
    "\n",
    "print(f\"Estimated values for the 25th percentile are: {flows_25th_percentile}\")\n",
    "print(f\"Estimated values for the 50th percentile are: {estimated_flow}\")\n",
    "print(f\"Estimated values for the 75th percentile are: {flows_75th_percentile}\")"
   ]
  },
  {
   "cell_type": "markdown",
   "metadata": {},
   "source": [
    "\n",
    "\n",
    "Notice that there are a few problems with the model presented here:\n",
    "1. The optimal interpolation worsened the estimated results at the gauged sites compared to the raw simulation.\n",
    "2. The 25th and 75th percentile values for the estimated flows at the gauged sites are \"nan\".\n",
    "3. The estimated flows at the ungauged sites did not change (or changed very little).\n",
    "\n",
    "These problems arise due to some methodological choices:\n",
    "* Forcing of a covariance function model and parameterization that is inadequate.\n",
    "* Very few observation stations, making it extremely difficult to assess spatial patterns.\n",
    "* Simulated and observed flows that were randomly generated and have no (or little) correlation, very small covariance.\n",
    "\n",
    "This means the problem is ill-defined and the optimal interpolation should not be applied in these cases. With more data, the results become much better, as will be shown in the next section."
   ]
  },
  {
   "cell_type": "markdown",
   "metadata": {},
   "source": [
    "## Application on real data from the HYDROTEL hydrological model"
   ]
  },
  {
   "cell_type": "markdown",
   "metadata": {},
   "source": [
    "The previous section showed how to implement the optimal interpolation algorithm in a standalone manner. However, this is inconvenient when many stations are to be processed concurrently. Tools have thus been built into `xhydro` to help with all the processing, and as such, has some specific data requirements. Here we explore the contents of a complete input file, and we will add details a bit later. Let's start by importing some test data from the `xhydro-testdata` repository:"
   ]
  },
  {
   "cell_type": "code",
   "execution_count": null,
   "metadata": {},
   "outputs": [],
   "source": [
    "# Get data\n",
    "test_data_path = deveraux().fetch(\n",
    "    \"optimal_interpolation/OI_data_corrected.zip\",\n",
    "    pooch.Unzip(),\n",
    ")\n",
    "directory_to_extract_to = Path(test_data_path[0]).parent\n",
    "\n",
    "# Read-in all the files and set to paths that we can access later.\n",
    "flow_obs_info_file = directory_to_extract_to / \"A20_HYDOBS_TEST_corrected.nc\"\n",
    "flow_sim_info_file = directory_to_extract_to / \"A20_HYDREP_TEST_corrected.nc\"\n",
    "corresponding_station_file = directory_to_extract_to / \"station_correspondence.nc\"\n",
    "selected_station_file = (\n",
    "    directory_to_extract_to / \"stations_retenues_validation_croisee.csv\"\n",
    ")"
   ]
  },
  {
   "cell_type": "markdown",
   "metadata": {},
   "source": [
    "We now have 4 files:\n",
    "- flow_obs_info_file: The dataset file (.nc) that contains the point observations and station metadata.\n",
    "- flow_sim_info_file: The dataset file (.nc) that contains the background field simulations, including simulated station metadata.\n",
    "- corresponding_station_file: The dataset file (.nc) that links the station identifiers between observations and simulated stations. This is necessary because observed stations have \"real world\" identifiers and distributed simulations are often coded or numbered sequentially. However, we need to be able to find which of the background field stations (simulation points) correspond to each real-world station.\n",
    "- selected_station_file: The list of stations from the observation set that we wish to use (thus discarding the others from the flow_obs_info_file set).\n",
    "\n",
    "We can now process them to extract some values that will be required to send to the optimal interpolation main controller:"
   ]
  },
  {
   "cell_type": "code",
   "execution_count": null,
   "metadata": {},
   "outputs": [],
   "source": [
    "# We first open the .nc files that contain our required data (qobs for the observed flows,\n",
    "# qsim for the simulated flows and the station correspondence file)\n",
    "qobs = xr.open_dataset(flow_obs_info_file)\n",
    "qsim = xr.open_dataset(flow_sim_info_file)\n",
    "station_correspondence = xr.open_dataset(corresponding_station_file)\n",
    "\n",
    "# Also read the .csv file that contains the list of observation stations to include.\n",
    "df_validation = pd.read_csv(selected_station_file, sep=None, dtype=str)\n",
    "observation_stations = list(df_validation[\"No_station\"])"
   ]
  },
  {
   "cell_type": "markdown",
   "metadata": {},
   "source": [
    "Let's explore the contents of these files:"
   ]
  },
  {
   "cell_type": "code",
   "execution_count": null,
   "metadata": {},
   "outputs": [],
   "source": [
    "# First show the contents of the observed streamflow file:\n",
    "display(qobs)"
   ]
  },
  {
   "cell_type": "markdown",
   "metadata": {},
   "source": [
    "### IMPORTANT:\n",
    "Notice that there are a few keywords that are important in these files that the code expects:\n",
    "1. The streamflow observations must be in a data variable named \"streamflow\", with dimensions \"station\" and \"time\".\n",
    "2. There must be the catchment drainage area in a variable named \"drainage_area\" with dimensions \"station\".\n",
    "3. The \"centroid_lat\" and \"centroid_lon\" are also required under those specific names to allow computing distances. These are the centroids of the catchments, and not the latitude and longitude of the hydrometric stations.\n",
    "4. There should be a \"time\" variable.\n",
    "5. There should be a \"station_id\" variable, that has an identifier for each station. This will be used to map the observation station IDs to the simulated station IDs using the correspondence tables.\n",
    "\n",
    "Notice that there are 274 observed stations, which should help increase the error covariance function's accuracy.\n",
    "\n",
    "We can now explore the simulated streamflow \"qsim\", which is quite similar:\n"
   ]
  },
  {
   "cell_type": "code",
   "execution_count": null,
   "metadata": {},
   "outputs": [],
   "source": [
    "# Next show the contents of the simulated streamflow file:\n",
    "display(qsim)"
   ]
  },
  {
   "cell_type": "markdown",
   "metadata": {},
   "source": [
    "### IMPORTANT:\n",
    "We can again see some specific variables in the \"qsim\" dataset:\n",
    "1. The streamflow simulations must be in a data variable named \"streamflow\", with dimensions \"station\" and \"time\".\n",
    "2. There must be the catchment drainage area *as simulated by the model* in a variable named \"drainage_area\" with dimensions \"station\".\n",
    "3. The \"lat\" and \"lon\" are also required under those specific names to allow computing distances. These are the centroids of the catchments, and not the latitude and longitude of the hydrometric stations, which do not exist in the simulation mode.\n",
    "4. There should be a \"time\" variable.\n",
    "5. There should be a \"station_id\" variable, that has an identifier for each station. This will be used to map the observation station IDs to the simulated station IDs using the correspondence tables.\n",
    "\n",
    "Notice that there are again 274 stations, like in the \"qobs\" dataset. This is because this specific dataset was used to perform leave-one-out cross validation to assess the optimal interpolation performance, and as such, only simulations at gauged sites is of interest. In an operational setting, there is no limit on the number of stations for \"qsim\".\n",
    "\n",
    "Now let's take a look at the correspondence tables and the observed station dataset."
   ]
  },
  {
   "cell_type": "code",
   "execution_count": null,
   "metadata": {},
   "outputs": [],
   "source": [
    "# Show the correspondence table\n",
    "display(station_correspondence)"
   ]
  },
  {
   "cell_type": "markdown",
   "metadata": {},
   "source": [
    "To keep the observed and simulation station names separate, the following nomenclature has been adopted:\n",
    "\n",
    "- Observed stations are tagged as \"station_id\" in the station_correspondence dataset\n",
    "- Simulated stations are tagged as \"reach_id\" in the station_correspondence dataset\n",
    "\n",
    "Notice that there are 296 stations in this table, whereas we only had 274 stations in the flow datasets. This is completely acceptable, as long as all observed-simulation pairs are found in the station_correspondence dataset. If some are missing, the code will raise an exception.\n",
    "\n",
    "Finally, let's see the contents of the observation_stations variable, which tells the model which of the 274 observation stations should be used to build the error covariance model and perform the optimal interpolation. These stations need to be a subset of the 274 observed stations."
   ]
  },
  {
   "cell_type": "code",
   "execution_count": null,
   "metadata": {},
   "outputs": [],
   "source": [
    "print(\n",
    "    f\"There are a total of {len(observation_stations)} selected observation stations.\"\n",
    ")\n",
    "print(observation_stations)"
   ]
  },
  {
   "cell_type": "markdown",
   "metadata": {},
   "source": [
    "As can be seen, it is simply a list of stations. It can be generated by any means by users, as long as it is in list form and includes stations from the qobs \"station_id\" variables. For this test case, we used only 96 catchments that had a sufficient number of observed streamflow records.\n",
    "\n",
    "We can now provide more details on some hyperparameters. Note that many of the hyperparameters of the test example are not required here, as the model will impose some choices and determine other values from the data directly. For example, the ECF model used is 'Model 3', and its parameters are optimized to best fit the available data.\n",
    "\n",
    "At this stage, the only missing required data is as follows:"
   ]
  },
  {
   "cell_type": "code",
   "execution_count": null,
   "metadata": {},
   "outputs": [],
   "source": [
    "# Start and end dates for the simulation. We use a short period for this notebook, but it can be extended.\n",
    "start_date = dt.datetime(2018, 11, 1)\n",
    "end_date = dt.datetime(2019, 1, 1)\n",
    "\n",
    "# The ratio of observed-to-simulated variance.\n",
    "ratio_var_bg = 0.15\n",
    "\n",
    "# The percentiles desired to estimate the flow uncertainty at each timestep and station\n",
    "percentiles = [25.0, 50.0, 75.0]\n",
    "\n",
    "# The number of variogram bins required to fit the error covariance function. 10 is a good number, but could be increased with more data.\n",
    "variogram_bins = 10"
   ]
  },
  {
   "cell_type": "markdown",
   "metadata": {},
   "source": [
    "We can now do a bit of processing to ensure we only provide the desired data:"
   ]
  },
  {
   "cell_type": "code",
   "execution_count": null,
   "metadata": {},
   "outputs": [],
   "source": [
    "# Extract only the desired time period for the flow datasets\n",
    "qobs = qobs.sel(time=slice(start_date, end_date))\n",
    "qsim = qsim.sel(time=slice(start_date, end_date))\n",
    "\n",
    "# Other computational options\n",
    "\n",
    "# If we do a leave-one-out cross-validation over the 96 catchments, the entire optimal interpolation process is repeated 96 times but\n",
    "# only over the observation sites, each time leaving one station out and kept independent for validation. This is time-consuming and\n",
    "# can be parallelized by adjusting this flag and setting an appropriate number of CPU cores according to your computer. By default,\n",
    "# the code will only use 1 core. However, if increased, the maximum number that will be actually used is ([number-of-available-cores / 2] - 1)\n",
    "# CPU cores as to not overexert the computer.\n",
    "parallelize = False\n",
    "max_cores = 1\n",
    "\n",
    "# However, if leave_one_out_cv is set to False, then a simple operational application is performed and the model will estimate flows\n",
    "# at all \"qsim\" simulation sites. Here we set to \"True\" to generate a Leave-One-Out Cross-Validation and thus get flows that can\n",
    "# be evaluated and compared to actual observations.\n",
    "leave_one_out_cv = True"
   ]
  },
  {
   "cell_type": "markdown",
   "metadata": {},
   "source": [
    "We are now ready to perform the optimal interpolation, return the results in the form of a dataset, and explore that dataset:"
   ]
  },
  {
   "cell_type": "code",
   "execution_count": null,
   "metadata": {},
   "outputs": [],
   "source": [
    "# Launch the optimal interpolation by calling the main controller\n",
    "ds = opt.execute_interpolation(\n",
    "    qobs=qobs,\n",
    "    qsim=qsim,\n",
    "    station_correspondence=station_correspondence,\n",
    "    observation_stations=observation_stations,\n",
    "    ratio_var_bg=ratio_var_bg,\n",
    "    percentiles=percentiles,\n",
    "    variogram_bins=variogram_bins,\n",
    "    parallelize=parallelize,\n",
    "    max_cores=max_cores,\n",
    "    leave_one_out_cv=leave_one_out_cv,\n",
    ")\n",
    "\n",
    "display(ds)"
   ]
  },
  {
   "cell_type": "markdown",
   "metadata": {},
   "source": [
    "We can see that the returned dataset has a variable called \"streamflow\" of size **[percentile, station_id, time]**.\n",
    "\n",
    "This variable can be explored to get the flow estimation for each percentile requested to assess the uncertainty. For example, let's explore the value for the 50th percentile, i.e. the percentile value at index 1."
   ]
  },
  {
   "cell_type": "code",
   "execution_count": null,
   "metadata": {},
   "outputs": [],
   "source": [
    "display(ds[\"streamflow\"].sel(percentile=50.0))"
   ]
  },
  {
   "cell_type": "markdown",
   "metadata": {},
   "source": [
    "We can go further and extract the data for one catchment. We will also store it into a separate variable for further analysis.\n"
   ]
  },
  {
   "cell_type": "code",
   "execution_count": null,
   "metadata": {},
   "outputs": [],
   "source": [
    "# Change to see another catchment.\n",
    "selected_catchment = 0\n",
    "interpolated_flow_select = (\n",
    "    ds[\"streamflow\"].sel(percentile=50.0).isel(station_id=selected_catchment)\n",
    ")\n",
    "\n",
    "# Get the station ID for comparing\n",
    "interpolated_flow_select_station_id = str(\n",
    "    ds[\"station\"].isel(station=selected_catchment).data\n",
    ")"
   ]
  },
  {
   "cell_type": "markdown",
   "metadata": {},
   "source": [
    "We can do a similar processing for the observed and raw simulation data:"
   ]
  },
  {
   "cell_type": "code",
   "execution_count": null,
   "metadata": {},
   "outputs": [],
   "source": [
    "# Since we went from 274 to 96 catchments, the indexing is not preserved between the outputs and input files. Furthermore, there is\n",
    "# no guarantee that the 274 simulation and 274 observation stations are in the same order between both files. This code realigns everything.\n",
    "index_correspondence = np.where(\n",
    "    station_correspondence[\"station_id\"] == interpolated_flow_select_station_id\n",
    ")[0][0]\n",
    "station_code = station_correspondence[\"reach_id\"][index_correspondence]\n",
    "index_in_sim = np.where(qsim[\"station_id\"].values == station_code.data)[0][0]\n",
    "index_in_obs = np.where(qobs[\"station_id\"] == interpolated_flow_select_station_id)[0][0]\n",
    "\n",
    "# Extract the correct data from the observed and raw simulation files.\n",
    "observed_flow_select = qobs[\"streamflow\"].isel(station=index_in_obs)\n",
    "raw_simulated_flow_select = qsim[\"streamflow\"].isel(station=index_in_sim)"
   ]
  },
  {
   "cell_type": "markdown",
   "metadata": {},
   "source": [
    "We can plot these results and look for improvement in the simulations after the optimal interpolation:\n"
   ]
  },
  {
   "cell_type": "code",
   "execution_count": null,
   "metadata": {},
   "outputs": [],
   "source": [
    "plt.plot(observed_flow_select, label=\"Observed flow\")\n",
    "plt.plot(raw_simulated_flow_select, label=\"Raw simulation\")\n",
    "plt.plot(interpolated_flow_select, label=\"Interpolated simulation\")\n",
    "plt.xlabel(\"Simulation day\")\n",
    "plt.ylabel(\"Streamflow (m³/s)\")\n",
    "plt.legend()\n",
    "plt.show()"
   ]
  },
  {
   "cell_type": "markdown",
   "metadata": {},
   "source": [
    "We can see that the optimal interpolation generally helped bring the model similation back in-line with the observations. Note that here the observations were not available and to the optimal interpolation algorithm in this leave-one-out cross-validation implementation, so the improvement is blind to the gauge observation data at this site."
   ]
  }
 ],
 "metadata": {
  "language_info": {
   "codemirror_mode": {
    "name": "ipython",
    "version": 3
   },
   "file_extension": ".py",
   "mimetype": "text/x-python",
   "name": "python",
   "nbconvert_exporter": "python",
   "pygments_lexer": "ipython3",
   "version": "3.12.7"
  },
  "vscode": {
   "interpreter": {
    "hash": "e28391989cdb8b31df72dd917935faad186df3329a743c813090fc6af977a1ca"
   }
  }
 },
 "nbformat": 4,
 "nbformat_minor": 4
}
